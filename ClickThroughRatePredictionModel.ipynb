{
  "nbformat": 4,
  "nbformat_minor": 0,
  "metadata": {
    "colab": {
      "provenance": [],
      "authorship_tag": "ABX9TyMxWXsVapdsZ5ol31WYw2l/",
      "include_colab_link": true
    },
    "kernelspec": {
      "name": "python3",
      "display_name": "Python 3"
    },
    "language_info": {
      "name": "python"
    }
  },
  "cells": [
    {
      "cell_type": "markdown",
      "metadata": {
        "id": "view-in-github",
        "colab_type": "text"
      },
      "source": [
        "<a href=\"https://colab.research.google.com/github/guilhermelaviola/SalesPrediction/blob/main/ClickThroughRatePredictionModel.ipynb\" target=\"_parent\"><img src=\"https://colab.research.google.com/assets/colab-badge.svg\" alt=\"Open In Colab\"/></a>"
      ]
    },
    {
      "cell_type": "code",
      "execution_count": null,
      "metadata": {
        "id": "wk9XgRTm2f2V"
      },
      "outputs": [],
      "source": [
        "# Importing all the necessary libraries:\n",
        "import pandas as pd"
      ]
    },
    {
      "cell_type": "code",
      "source": [
        "# Importing and displaying the dataset:\n",
        "data = pd.read_csv('advertising.csv')\n",
        "print(data.head())"
      ],
      "metadata": {
        "id": "Vf5uDO_D2u77"
      },
      "execution_count": null,
      "outputs": []
    },
    {
      "cell_type": "code",
      "source": [
        "# Checking if there are any null values in the dataset:\n",
        "print(data.isnull().sum())"
      ],
      "metadata": {
        "id": "mH89RA2024wv"
      },
      "execution_count": null,
      "outputs": []
    },
    {
      "cell_type": "code",
      "source": [
        "# Displaying all the column names:\n",
        "print(data.columns)"
      ],
      "metadata": {
        "id": "Dd9UBM7s3M7a"
      },
      "execution_count": null,
      "outputs": []
    },
    {
      "cell_type": "code",
      "source": [
        "# Preparing the data by dropping some unnecessary columns,\n",
        "# so it can easily fit into the Machine Learning model:\n",
        "x = data.iloc[:,0:7]\n",
        "x = x.drop(['Ad Topic Line', 'City'], axis = 1)"
      ],
      "metadata": {
        "id": "Z0KeuE2x3TUs"
      },
      "execution_count": null,
      "outputs": []
    }
  ]
}