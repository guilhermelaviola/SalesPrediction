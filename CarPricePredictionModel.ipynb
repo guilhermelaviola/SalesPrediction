{
  "nbformat": 4,
  "nbformat_minor": 0,
  "metadata": {
    "colab": {
      "provenance": [],
      "authorship_tag": "ABX9TyPcQ6N7eH98Kk4JWe/kgU8a",
      "include_colab_link": true
    },
    "kernelspec": {
      "name": "python3",
      "display_name": "Python 3"
    },
    "language_info": {
      "name": "python"
    }
  },
  "cells": [
    {
      "cell_type": "markdown",
      "metadata": {
        "id": "view-in-github",
        "colab_type": "text"
      },
      "source": [
        "<a href=\"https://colab.research.google.com/github/guilhermelaviola/SalesPrediction/blob/main/CarPricePredictionModel.ipynb\" target=\"_parent\"><img src=\"https://colab.research.google.com/assets/colab-badge.svg\" alt=\"Open In Colab\"/></a>"
      ]
    },
    {
      "cell_type": "code",
      "execution_count": 1,
      "metadata": {
        "id": "mSPnGGDtVj1H"
      },
      "outputs": [],
      "source": [
        "# Importing all the necessary libraries:\n",
        "import numpy as np\n",
        "import pandas as pd\n",
        "import matplotlib.pyplot as plt\n",
        "import seaborn as sns\n",
        "from sklearn.model_selection import train_test_split\n",
        "from sklearn.tree import DecisionTreeRegressor"
      ]
    },
    {
      "cell_type": "code",
      "source": [
        "# Importing and displaying the 10 first rows of the dataset:\n",
        "data = pd.read_csv('Cars.csv')\n",
        "data.head(10)"
      ],
      "metadata": {
        "id": "Nk__vS9GV8RN"
      },
      "execution_count": null,
      "outputs": []
    },
    {
      "cell_type": "code",
      "source": [
        "# Checking if there are any null values in the dataset before going any firther:\n",
        "data.isnull().sum()"
      ],
      "metadata": {
        "id": "FjCtLU4mWMMj"
      },
      "execution_count": null,
      "outputs": []
    },
    {
      "cell_type": "code",
      "source": [
        "# Checking some other important insights in the dataset:\n",
        "data.info()"
      ],
      "metadata": {
        "id": "xi7M4aBJWimi"
      },
      "execution_count": null,
      "outputs": []
    },
    {
      "cell_type": "code",
      "source": [
        "print(data.describe())"
      ],
      "metadata": {
        "id": "a5079pxFWnki"
      },
      "execution_count": null,
      "outputs": []
    },
    {
      "cell_type": "code",
      "source": [
        "# Checking if there are cars with unique names:\n",
        "data.CarName.unique()"
      ],
      "metadata": {
        "id": "RsB4HcglWy9f"
      },
      "execution_count": null,
      "outputs": []
    },
    {
      "cell_type": "code",
      "source": [
        "# Displaying the distribution of the values in the price column, the one that will be used for the value prediction:\n",
        "sns.set_style('whitegrid')\n",
        "plt.figure(figsize = (15, 10))\n",
        "sns.distplot(data.price)\n",
        "plt.show()\n"
      ],
      "metadata": {
        "id": "CABNMTLAW5Qq"
      },
      "execution_count": null,
      "outputs": []
    },
    {
      "cell_type": "code",
      "source": [
        "# Displaying the correlation among the features of the dataset:\n",
        "print(data.corr())"
      ],
      "metadata": {
        "id": "vf52vEJWXdrG"
      },
      "execution_count": null,
      "outputs": []
    },
    {
      "cell_type": "code",
      "source": [
        "# Displying the correlations:\n",
        "plt.figure(figsize = (20, 15))\n",
        "correlations = data.corr()\n",
        "sns.heatmap(correlations, cmap = 'coolwarm', annot = True)\n",
        "plt.show()"
      ],
      "metadata": {
        "id": "Yjzo_TKPXo2C"
      },
      "execution_count": null,
      "outputs": []
    },
    {
      "cell_type": "code",
      "source": [
        "# Training the model:"
      ],
      "metadata": {
        "id": "OOTJBqoQX7jF"
      },
      "execution_count": null,
      "outputs": []
    }
  ]
}